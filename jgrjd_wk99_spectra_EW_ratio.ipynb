{
 "cells": [
  {
   "cell_type": "code",
   "execution_count": 1,
   "metadata": {},
   "outputs": [],
   "source": [
    "import numpy as np\n",
    "import xarray as xr\n",
    "import pandas as pd\n",
    "import scipy as sc\n",
    "from scipy import signal\n",
    "import matplotlib.pyplot as plt\n",
    "from numpy import matlib as mb\n",
    "import multiprocessing\n",
    "from tqdm.notebook import tqdm as tqdm\n",
    "from functools import partial\n",
    "from scipy.ndimage import gaussian_filter"
   ]
  },
  {
   "cell_type": "markdown",
   "metadata": {},
   "source": [
    "## MATLAB code used by Dr. Eric Oliver\n"
   ]
  },
  {
   "cell_type": "raw",
   "metadata": {},
   "source": [
    "%% written By Dr. Eric Oliver \n",
    "\n",
    "function [f,k,p_S,p_A,p_T] = wk99(data,T);\n",
    "\n",
    "%\n",
    "%  [f,k,p_S,p_A,p_T,p_bg] = wk99(data,T)\n",
    "%  \n",
    "%  Frequency-wavenumber diagram as described in Wheeler and Kiladis (1999).\n",
    "%  Note that this script DOES NOT calculate the background spectrum and\n",
    "%  calculate the ratio of the symmetric and anti-symmetric parts to the\n",
    "%  background. This can be done using code something like:\n",
    "%   > sum(p_S,3) ./ two_dim_smoothing(sum(p_S,3))\n",
    "%  to give a symmetric spectrum \"anomaly\" as presented in WK99\n",
    "%\n",
    "%  The input quantities are as follows:\n",
    "%\n",
    "%   data - data from which to generate the WK99 diagram. Should have\n",
    "%          dimensions of [ time x longitude x latitude ]. The latitudes\n",
    "%          must be symmetric about the equator\n",
    "%   T    - length of segments from which to generate independent spectra\n",
    "%          (e.g., 96 in the WK99 paper). The final spectra are then generated\n",
    "%          by averaging over all the segments.\n",
    "%\n",
    "%  The output quantities are as follows:\n",
    "%  \n",
    "%   f    - frequencies [ rad / \"sample rate\" ]\n",
    "%   k    - wavenumbers [ rad / \"sample rate\" ]\n",
    "%   p_S  - 2D spectral density of symmetric variability\n",
    "%   p_A  - 2D spectral density of anti-symmetric variability\n",
    "%   p_T  - 2D spectral density of total variability\n",
    "%  \n",
    "\n",
    "% some sizes\n",
    "X = size(data,2); Y = size(data,3);\n",
    "\n",
    "% sumber of segments to average over\n",
    "nseg = floor(size(data,1)/T); if ( (nseg*T)+T/2 > size(data,1) ) nseg = nseg-1; end;\n",
    "\n",
    "% generate tapering window\n",
    "taperwin = repmat(tukeywin(T,0.25),1,2*nseg);\n",
    "\n",
    "% allocate matrices\n",
    "p_T = zeros(X,T,Y); p_S = zeros(X,T,Y); p_A = zeros(X,T,Y);\n",
    "\n",
    "% loop over latitudes\n",
    "for j = 1:Y\n",
    "  % get [time x latitude] matrix of var (var_eq)\n",
    "  var_eq = data(:,:,j); % var at lat\n",
    "  var_eq2 = data(:,:,Y-j+1); % var at -lat\n",
    "  var_eq_S = 0.5*( var_eq + var_eq2 ); % symmetric component\n",
    "  var_eq_A = 0.5*( var_eq - var_eq2 ); % anti-symmetric component\n",
    "  var_eq_S = detrend(var_eq_S); var_eq_A = detrend(var_eq_A); % detrend temporally\n",
    "  var_eq_S = detrend(var_eq_S')'; var_eq_A = detrend(var_eq_A')'; % detrend spatially\n",
    "  % -----\n",
    "  % TOTAL\n",
    "  % segments\n",
    "  for i = 1:size(var_eq,2)\n",
    "    var_seg_tmp = reshape( var_eq(1:(nseg*T),i) , T , nseg ); % 96 day segments\n",
    "    var_seg_tmp = [var_seg_tmp reshape( var_eq((T/2)+[1:(nseg*T)],i) , T , nseg )]; % overlapping segments (96/2 day overlap)\n",
    "    var_seg_tmp = detrend(var_seg_tmp).*taperwin; % taper t.s.\n",
    "    var_seg(:,i,:) = reshape( var_seg_tmp , [size(var_seg_tmp,1) 1 size(var_seg_tmp,2)]);\n",
    "  end\n",
    "  % calculate average w-k spectra over all segments\n",
    "  p_seg = zeros(X,T);%length(floor(T/2)+2:T),X);\n",
    "  for seg = 1:size(var_seg,3)\n",
    "    p0 = abs(fftshift(circshift(fft2(var_seg(:,:,seg)'),[0 -1])));% fliplr required to make (T/2+1,X/2+1) element at (w,k)=(0,0)\n",
    "    p_seg = p_seg + fliplr(p0);%(floor(T/2)+2:end,:));\n",
    "  end\n",
    "  p_T(:,:,j) = p_seg./size(var_seg,3);\n",
    "  % ---------\n",
    "  % SYMMETRIC\n",
    "  % segments\n",
    "  for i = 1:size(var_eq_S,2)\n",
    "    var_seg_tmp = reshape( var_eq_S(1:(nseg*T),i) , T , nseg ); % T-day segments\n",
    "    var_seg_tmp = [var_seg_tmp reshape( var_eq_S((T/2)+[1:(nseg*T)],i) , T , nseg )]; % overlapping segments (T/2 day overlap)\n",
    "    var_seg_tmp = detrend(var_seg_tmp).*taperwin; % taper t.s.\n",
    "    var_seg(:,i,:) = reshape( var_seg_tmp , [size(var_seg_tmp,1) 1 size(var_seg_tmp,2)]);\n",
    "  end\n",
    "  % calculate average w-k spectra over all segments\n",
    "  p_seg = zeros(X,T);%length(floor(T/2)+2:T),X);\n",
    "  for seg = 1:size(var_seg,3)\n",
    "    p0 = abs(fftshift(circshift(fft2(var_seg(:,:,seg)'),[0 -1])));% fliplr required to make (T/2+1,X/2+1) element at (w,k)=(0,0)\n",
    "    p_seg = p_seg + fliplr(p0);%(floor(T/2)+2:end,:));\n",
    "  end\n",
    "  p_S(:,:,j) = p_seg./size(var_seg,3);\n",
    "  % --------------\n",
    "  % ANTI-SYMMETRIC\n",
    "  % segments\n",
    "  for i = 1:size(var_eq_A,2)\n",
    "    var_seg_tmp = reshape( var_eq_A(1:(nseg*T),i) , T , nseg ); % 96 day segments\n",
    "    var_seg_tmp = [var_seg_tmp reshape( var_eq_A((T/2)+[1:(nseg*T)],i) , T , nseg )]; % overlapping segments (96/2 day overlap)\n",
    "    var_seg_tmp = detrend(var_seg_tmp).*taperwin; % taper t.s.\n",
    "    var_seg(:,i,:) = reshape( var_seg_tmp , [size(var_seg_tmp,1) 1 size(var_seg_tmp,2)]);\n",
    "  end\n",
    "  % calculate average w-k spectra over all segments\n",
    "  p_seg = zeros(X,T);%length(floor(T/2)+2:T),X);\n",
    "  for seg = 1:size(var_seg,3)\n",
    "    p0 = abs(fftshift(circshift(fft2(var_seg(:,:,seg)'),[0 -1])));% fliplr required to make (T/2+1,X/2+1) element at (w,k)=(0,0)\n",
    "    p_seg = p_seg + fliplr(p0);%(floor(T/2)+2:end,:));\n",
    "  end\n",
    "  p_A(:,:,j) = p_seg./size(var_seg,3);\n",
    "end\n",
    "\n",
    "% create f and k vectors (units: rad/\"cell no\")\n",
    "f = 2*pi*[0:T-1]/T; f(find(f>=pi)) = f(find(f>=pi))-2*pi; f = fftshift(f);\n",
    "k = 2*pi*[0:X-1]/X; k(find(k>=pi)) = k(find(k>=pi))-2*pi; k = fftshift(k);\n"
   ]
  },
  {
   "cell_type": "markdown",
   "metadata": {},
   "source": [
    "## PYTHON code for WK99 spectra"
   ]
  },
  {
   "cell_type": "code",
   "execution_count": 2,
   "metadata": {},
   "outputs": [],
   "source": [
    "example_data = xr.open_dataset('/home/cccr/roxy/panini/JGRJD_MJO_CMIP_III/MJO_tracking/TRMM_3B42/grid_1/trmm_anom_daily_1998-2019_rg_new.nc')\n",
    "# example_data = xr.open_dataset('/home/cccr/roxy/panini/test1.nc')\n",
    "data         = example_data['pr'].sel(lat=slice(-15,15)).values"
   ]
  },
  {
   "cell_type": "code",
   "execution_count": 3,
   "metadata": {},
   "outputs": [
    {
     "data": {
      "text/plain": [
       "(7700, 360, 30)"
      ]
     },
     "execution_count": 3,
     "metadata": {},
     "output_type": "execute_result"
    }
   ],
   "source": [
    "data.shape"
   ]
  },
  {
   "cell_type": "code",
   "execution_count": 5,
   "metadata": {},
   "outputs": [],
   "source": [
    "def fft2d(seg,var_seg):\n",
    "    '''\n",
    "    calculates power using 2D-FFT\n",
    "    var_seg : precip /olr dim:time x lon x seg_no\n",
    "    seg     : seg_no\n",
    "    p0      : power (time x lon x seg_no )\n",
    "    '''\n",
    "    p0 = np.abs(np.fft.fftshift(np.roll(sc.fft.fft2(var_seg[:,:,seg].T),-1,axis=1)))\n",
    "    return p0\n",
    "\n",
    "def spectra_seg(var_eq,T,X,nseg,taperwin):\n",
    "    '''\n",
    "    Split into segments  of length 96 (over-lapping)\n",
    "    var_eq : precip/olr at particular latitude dim : tim x lon\n",
    "    T      : length of segments from which to generate independent spectra\n",
    "             (e.g., 96 in the WK99 paper). The final spectra are then generated\n",
    "             by averaging over all the segments.\n",
    "    X      : dim of lon (360)\n",
    "    nseg   : No of segment\n",
    "    taperwin: tapering window with len T\n",
    "    var_seg : overlapping segment dim : (T x lon x 2*no_seg )\n",
    "    p_seg   : power for each seg  dim : (T x lon x 2*no_seg )\n",
    "    '''\n",
    "    var_seg            = np.zeros((T,X,2*nseg))\n",
    "    \n",
    "    for i in range(X):\n",
    "        var_seg_tmp    = np.reshape(var_eq[:int(nseg*T),i] , (nseg , T)).T;                                      # % 96 day segments\n",
    "        var_seg_tmp    = np.hstack([var_seg_tmp, np.reshape(var_eq[int(T/2)+np.arange(nseg*T),i],(nseg,T )).T]); # % overlapping segments (96/2 day overlap)\n",
    "        var_seg_tmp    = signal.detrend(var_seg_tmp,0)*taperwin;                                                 # % taper t.s.\n",
    "        var_seg[:,i,:] = var_seg_tmp*1.0\n",
    "    \n",
    "    ## 2D-FFT\n",
    "    \n",
    "    p_seg              = np.zeros((X,T));                                                           #%length(floor(T/2)+2:T),X);\n",
    "    fft2d_x            = partial(fft2d, var_seg=var_seg)\n",
    "    \n",
    "    pool               = multiprocessing.Pool(processes=8)\n",
    "    r                  = pool.map(fft2d_x, np.arange(var_seg.shape[2]))\n",
    "    pool.close()\n",
    "    pool.join()\n",
    "    \n",
    "    for i in r:\n",
    "        p_seg = p_seg + np.fliplr(i);\n",
    "        \n",
    "    return var_seg,p_seg\n",
    "\n",
    "def wk99(data,T):\n",
    "    '''\n",
    "         # %  Written By : Eric Oliver . original code was in MATLAB.\n",
    "        # %  [f,k,p_S,p_A,p_T,p_bg] = wk99(data,T)\n",
    "        # %  \n",
    "        # %  Frequency-wavenumber diagram as described in Wheeler and Kiladis (1999).\n",
    "        # %  Note that this script DOES NOT calculate the background spectrum and\n",
    "        # %  calculate the ratio of the symmetric and anti-symmetric parts to the\n",
    "        # %  background. This can be done using code something like:\n",
    "        # %   > sum(p_S,3) ./ two_dim_smoothing(sum(p_S,3))\n",
    "        # %  to give a symmetric spectrum \"anomaly\" as presented in WK99\n",
    "        # %\n",
    "        # %  The input quantities are as follows:\n",
    "        # %\n",
    "        # %   data - data from which to generate the WK99 diagram. Should have\n",
    "        # %          dimensions of [ time x longitude x latitude ]. The latitudes\n",
    "        # %          must be symmetric about the equator\n",
    "        # %   T    - length of segments from which to generate independent spectra\n",
    "        # %          (e.g., 96 in the WK99 paper). The final spectra are then generated\n",
    "        # %          by averaging over all the segments.\n",
    "        # %\n",
    "        # %  The output quantities are as follows:\n",
    "        # %  \n",
    "        # %   f    - frequencies [ rad / \"sample rate\" ]\n",
    "        # %   k    - wavenumbers [ rad / \"sample rate\" ]\n",
    "        # %   p_S  - 2D spectral density of symmetric variability\n",
    "        # %   p_A  - 2D spectral density of anti-symmetric variability\n",
    "        # %   p_T  - 2D spectral density of total variability\n",
    "        # %  \n",
    "    '''\n",
    "    #     % some sizes\n",
    "    X = data.shape[1]; Y = data.shape[2];\n",
    "\n",
    "    #     % sumber of segments to average over\n",
    "    nseg = int(np.floor(np.size(data,0)/T))\n",
    "    if ((nseg*T)+T/2 > np.size(data,0)):\n",
    "        nseg = nseg-1\n",
    "\n",
    "    #     % generate tapering window\n",
    "    taperwin = signal.tukey(T,0.25)[:,np.newaxis]*np.ones((T,2*nseg))\n",
    "    \n",
    " \n",
    "    #     % allocate matrices\n",
    "    p_T = np.zeros((X,T,Y)); p_S = np.zeros((X,T,Y)); p_A = np.zeros((X,T,Y))\n",
    "\n",
    "    data[np.isnan(data)]=0.0\n",
    "    for j in tqdm(range(Y)):\n",
    "        var_eq   = data[:,:,j]                                                                  #% % var at lat\n",
    "        var_eq2  = data[:,:,Y-j-1];                                                                #% var at -lat\n",
    "        var_eq_S = 0.5*( var_eq + var_eq2 );                                                    #% symmetric component\n",
    "        var_eq_A = 0.5*( var_eq - var_eq2 );                                                    #% anti-symmetric component\n",
    "        var_eq_S = signal.detrend(var_eq_S,0); var_eq_A = signal.detrend(var_eq_A,0);           #% detrend temporally\n",
    "        var_eq_S = signal.detrend(var_eq_S.T,0).T; var_eq_A = signal.detrend(var_eq_A.T,0).T;   #% detrend spatially\n",
    "        # % -----\n",
    "         # % TOTAL\n",
    "         # % segments\n",
    "        var_seg,p_seg     = spectra_seg(var_eq,T,X,nseg,taperwin)\n",
    "        p_T[:,:,j]        = p_seg/var_seg.shape[2];\n",
    "        \n",
    "        # % ---------\n",
    "        # % SYMMETRIC\n",
    "        # % segments\n",
    "        var_seg,p_seg     = spectra_seg(var_eq_S,T,X,nseg,taperwin)\n",
    "        p_S[:,:,j]        = p_seg/var_seg.shape[2];\n",
    "           # % ---------\n",
    "        # % ANTI-SYMMETRIC\n",
    "        # % segments\n",
    "        var_seg,p_seg     = spectra_seg(var_eq_A,T,X,nseg,taperwin)\n",
    "        p_A[:,:,j]        = p_seg/var_seg.shape[2];\n",
    "\n",
    "    f = 2*np.pi*np.arange(T)/T; f[np.where(f>=np.pi)] = f[np.where(f>=np.pi)]-2*np.pi; f = np.fft.fftshift(f); \n",
    "    k = 2*np.pi*np.arange(X)/X; k[np.where(k>=np.pi)] = k[np.where(k>=np.pi)]-2*np.pi; k = np.fft.fftshift(k); \n",
    "    \n",
    "    #     k1 = 360/(2*np.pi/(k));\n",
    "    #     f1  = 2*np.pi/f; \n",
    "    #     f1[np.isinf(f1)]=np.nan; \n",
    "    \n",
    "    return p_T,p_S,p_A,f,k\n"
   ]
  },
  {
   "cell_type": "code",
   "execution_count": 6,
   "metadata": {},
   "outputs": [
    {
     "data": {
      "application/vnd.jupyter.widget-view+json": {
       "model_id": "bcce326f71f74a9d9f656c33cc6b95d0",
       "version_major": 2,
       "version_minor": 0
      },
      "text/plain": [
       "HBox(children=(FloatProgress(value=0.0, max=30.0), HTML(value='')))"
      ]
     },
     "metadata": {},
     "output_type": "display_data"
    },
    {
     "name": "stdout",
     "output_type": "stream",
     "text": [
      "\n",
      "CPU times: user 36min 20s, sys: 5min 28s, total: 41min 48s\n",
      "Wall time: 6min 35s\n"
     ]
    }
   ],
   "source": [
    "%%time\n",
    "p_T,p_S,p_A,f,k = wk99(data,T=96) "
   ]
  },
  {
   "cell_type": "code",
   "execution_count": 7,
   "metadata": {},
   "outputs": [
    {
     "data": {
      "text/plain": [
       "(2.5, -2.5)"
      ]
     },
     "execution_count": 7,
     "metadata": {},
     "output_type": "execute_result"
    }
   ],
   "source": [
    "Y = data.shape[2]\n",
    "lat = example_data['pr'].sel(lat=slice(-15,15)).lat.values\n",
    "j=17\n",
    "lat[j],lat[Y-j-1]"
   ]
  },
  {
   "cell_type": "markdown",
   "metadata": {},
   "source": [
    "## freq to time period and  K to wavenumber"
   ]
  },
  {
   "cell_type": "code",
   "execution_count": 11,
   "metadata": {},
   "outputs": [
    {
     "name": "stderr",
     "output_type": "stream",
     "text": [
      "/home/cccr/roxy/panini/anaconda3/envs/saranya/lib/python3.7/site-packages/ipykernel_launcher.py:1: RuntimeWarning: divide by zero encountered in true_divide\n",
      "  \"\"\"Entry point for launching an IPython kernel.\n",
      "/home/cccr/roxy/panini/anaconda3/envs/saranya/lib/python3.7/site-packages/ipykernel_launcher.py:2: RuntimeWarning: divide by zero encountered in true_divide\n",
      "  \n"
     ]
    },
    {
     "data": {
      "text/plain": [
       "(array([ -2.        ,  -2.04255319,  -2.08695652,  -2.13333333,\n",
       "         -2.18181818,  -2.23255814,  -2.28571429,  -2.34146341,\n",
       "         -2.4       ,  -2.46153846,  -2.52631579,  -2.59459459,\n",
       "         -2.66666667,  -2.74285714,  -2.82352941,  -2.90909091,\n",
       "         -3.        ,  -3.09677419,  -3.2       ,  -3.31034483,\n",
       "         -3.42857143,  -3.55555556,  -3.69230769,  -3.84      ,\n",
       "         -4.        ,  -4.17391304,  -4.36363636,  -4.57142857,\n",
       "         -4.8       ,  -5.05263158,  -5.33333333,  -5.64705882,\n",
       "         -6.        ,  -6.4       ,  -6.85714286,  -7.38461538,\n",
       "         -8.        ,  -8.72727273,  -9.6       , -10.66666667,\n",
       "        -12.        , -13.71428571, -16.        , -19.2       ,\n",
       "        -24.        , -32.        , -48.        , -96.        ,\n",
       "                 nan,  96.        ,  48.        ,  32.        ,\n",
       "         24.        ,  19.2       ,  16.        ,  13.71428571,\n",
       "         12.        ,  10.66666667,   9.6       ,   8.72727273,\n",
       "          8.        ,   7.38461538,   6.85714286,   6.4       ,\n",
       "          6.        ,   5.64705882,   5.33333333,   5.05263158,\n",
       "          4.8       ,   4.57142857,   4.36363636,   4.17391304,\n",
       "          4.        ,   3.84      ,   3.69230769,   3.55555556,\n",
       "          3.42857143,   3.31034483,   3.2       ,   3.09677419,\n",
       "          3.        ,   2.90909091,   2.82352941,   2.74285714,\n",
       "          2.66666667,   2.59459459,   2.52631579,   2.46153846,\n",
       "          2.4       ,   2.34146341,   2.28571429,   2.23255814,\n",
       "          2.18181818,   2.13333333,   2.08695652,   2.04255319]),\n",
       " array([-180., -179., -178., -177., -176., -175., -174., -173., -172.,\n",
       "        -171., -170., -169., -168., -167., -166., -165., -164., -163.,\n",
       "        -162., -161., -160., -159., -158., -157., -156., -155., -154.,\n",
       "        -153., -152., -151., -150., -149., -148., -147., -146., -145.,\n",
       "        -144., -143., -142., -141., -140., -139., -138., -137., -136.,\n",
       "        -135., -134., -133., -132., -131., -130., -129., -128., -127.,\n",
       "        -126., -125., -124., -123., -122., -121., -120., -119., -118.,\n",
       "        -117., -116., -115., -114., -113., -112., -111., -110., -109.,\n",
       "        -108., -107., -106., -105., -104., -103., -102., -101., -100.,\n",
       "         -99.,  -98.,  -97.,  -96.,  -95.,  -94.,  -93.,  -92.,  -91.,\n",
       "         -90.,  -89.,  -88.,  -87.,  -86.,  -85.,  -84.,  -83.,  -82.,\n",
       "         -81.,  -80.,  -79.,  -78.,  -77.,  -76.,  -75.,  -74.,  -73.,\n",
       "         -72.,  -71.,  -70.,  -69.,  -68.,  -67.,  -66.,  -65.,  -64.,\n",
       "         -63.,  -62.,  -61.,  -60.,  -59.,  -58.,  -57.,  -56.,  -55.,\n",
       "         -54.,  -53.,  -52.,  -51.,  -50.,  -49.,  -48.,  -47.,  -46.,\n",
       "         -45.,  -44.,  -43.,  -42.,  -41.,  -40.,  -39.,  -38.,  -37.,\n",
       "         -36.,  -35.,  -34.,  -33.,  -32.,  -31.,  -30.,  -29.,  -28.,\n",
       "         -27.,  -26.,  -25.,  -24.,  -23.,  -22.,  -21.,  -20.,  -19.,\n",
       "         -18.,  -17.,  -16.,  -15.,  -14.,  -13.,  -12.,  -11.,  -10.,\n",
       "          -9.,   -8.,   -7.,   -6.,   -5.,   -4.,   -3.,   -2.,   -1.,\n",
       "           0.,    1.,    2.,    3.,    4.,    5.,    6.,    7.,    8.,\n",
       "           9.,   10.,   11.,   12.,   13.,   14.,   15.,   16.,   17.,\n",
       "          18.,   19.,   20.,   21.,   22.,   23.,   24.,   25.,   26.,\n",
       "          27.,   28.,   29.,   30.,   31.,   32.,   33.,   34.,   35.,\n",
       "          36.,   37.,   38.,   39.,   40.,   41.,   42.,   43.,   44.,\n",
       "          45.,   46.,   47.,   48.,   49.,   50.,   51.,   52.,   53.,\n",
       "          54.,   55.,   56.,   57.,   58.,   59.,   60.,   61.,   62.,\n",
       "          63.,   64.,   65.,   66.,   67.,   68.,   69.,   70.,   71.,\n",
       "          72.,   73.,   74.,   75.,   76.,   77.,   78.,   79.,   80.,\n",
       "          81.,   82.,   83.,   84.,   85.,   86.,   87.,   88.,   89.,\n",
       "          90.,   91.,   92.,   93.,   94.,   95.,   96.,   97.,   98.,\n",
       "          99.,  100.,  101.,  102.,  103.,  104.,  105.,  106.,  107.,\n",
       "         108.,  109.,  110.,  111.,  112.,  113.,  114.,  115.,  116.,\n",
       "         117.,  118.,  119.,  120.,  121.,  122.,  123.,  124.,  125.,\n",
       "         126.,  127.,  128.,  129.,  130.,  131.,  132.,  133.,  134.,\n",
       "         135.,  136.,  137.,  138.,  139.,  140.,  141.,  142.,  143.,\n",
       "         144.,  145.,  146.,  147.,  148.,  149.,  150.,  151.,  152.,\n",
       "         153.,  154.,  155.,  156.,  157.,  158.,  159.,  160.,  161.,\n",
       "         162.,  163.,  164.,  165.,  166.,  167.,  168.,  169.,  170.,\n",
       "         171.,  172.,  173.,  174.,  175.,  176.,  177.,  178.,  179.]),\n",
       " array([-3.14159265, -3.07614281, -3.01069296, -2.94524311, -2.87979327,\n",
       "        -2.81434342, -2.74889357, -2.68344372, -2.61799388, -2.55254403,\n",
       "        -2.48709418, -2.42164434, -2.35619449, -2.29074464, -2.2252948 ,\n",
       "        -2.15984495, -2.0943951 , -2.02894526, -1.96349541, -1.89804556,\n",
       "        -1.83259571, -1.76714587, -1.70169602, -1.63624617, -1.57079633,\n",
       "        -1.50534648, -1.43989663, -1.37444679, -1.30899694, -1.24354709,\n",
       "        -1.17809725, -1.1126474 , -1.04719755, -0.9817477 , -0.91629786,\n",
       "        -0.85084801, -0.78539816, -0.71994832, -0.65449847, -0.58904862,\n",
       "        -0.52359878, -0.45814893, -0.39269908, -0.32724923, -0.26179939,\n",
       "        -0.19634954, -0.13089969, -0.06544985,  0.        ,  0.06544985,\n",
       "         0.13089969,  0.19634954,  0.26179939,  0.32724923,  0.39269908,\n",
       "         0.45814893,  0.52359878,  0.58904862,  0.65449847,  0.71994832,\n",
       "         0.78539816,  0.85084801,  0.91629786,  0.9817477 ,  1.04719755,\n",
       "         1.1126474 ,  1.17809725,  1.24354709,  1.30899694,  1.37444679,\n",
       "         1.43989663,  1.50534648,  1.57079633,  1.63624617,  1.70169602,\n",
       "         1.76714587,  1.83259571,  1.89804556,  1.96349541,  2.02894526,\n",
       "         2.0943951 ,  2.15984495,  2.2252948 ,  2.29074464,  2.35619449,\n",
       "         2.42164434,  2.48709418,  2.55254403,  2.61799388,  2.68344372,\n",
       "         2.74889357,  2.81434342,  2.87979327,  2.94524311,  3.01069296,\n",
       "         3.07614281]))"
      ]
     },
     "execution_count": 11,
     "metadata": {},
     "output_type": "execute_result"
    }
   ],
   "source": [
    "f1  = 2*np.pi/f; \n",
    "k1  = 360/(2*np.pi/k)\n",
    "f1[np.isinf(f1)]=np.nan; \n",
    "# k1[np.isinf(k1)]=0;\n",
    "f1,k1,f"
   ]
  },
  {
   "cell_type": "markdown",
   "metadata": {},
   "source": [
    "## Solve dispersion relation from WK99 and 2009\n"
   ]
  },
  {
   "cell_type": "markdown",
   "metadata": {},
   "source": [
    "## $\\frac{\\sqrt{gh_e}}{\\beta}(\\frac{\\omega^2}{gh_e}-k^2-\\frac{k}{\\omega}\\beta)=2n+1  $\n",
    "## $ n=-1,0,1,2,3,4. \\;\\;\\; h_e = 12,25,50,90m. \\;\\;\\; \\beta = 2.28x10^-11 s^-1 \\;\\;\\; g=9.8 ms^-1 $\n"
   ]
  },
  {
   "cell_type": "code",
   "execution_count": 29,
   "metadata": {},
   "outputs": [],
   "source": [
    "import sympy \n",
    "from sympy import symbols, exp, sqrt, solve\n",
    "from sympy import lambdify\n",
    "import numpy \n",
    "import cmath\n",
    "import matplotlib.pyplot as plt\n",
    "g,he,beta,omega,K,n=symbols('g,h_e,beta,omega,K,n')\n",
    "\n",
    "\n",
    "def funct(g,he,beta,K,n,omega):\n",
    "    return (sqrt(g*he)/beta)*(1/(g*he)*omega**2-K**2-(K/omega)*beta)-(2*n+1)\n",
    "\n",
    "def three_roots(f,k):\n",
    "    \n",
    "    he = [15,25,50,90]\n",
    "    n  = np.arange(-1,5,1)\n",
    "    g1         =   9.8\n",
    "    beta1      =   2.28*10**(-11)\n",
    "    c1         =   (9.8*he1)**0.500                       \n",
    "    req    =   (c1/beta1)**0.500\n",
    "    factor2    =   (c1*beta1)**0.500\n",
    "    \n",
    "    \n",
    "    f1  = 2*np.pi/f; \n",
    "    k1  = 360/(2*np.pi/k)\n",
    "    f1[np.isinf(f1)]=np.nan;\n",
    "\n",
    "    root1 = np.zeros((len(k1[np.abs(k1)<11]),len(n),len(he)))\n",
    "    root2 = np.zeros((len(k1[np.abs(k1)<11]),len(n),len(he)))\n",
    "    root3 = np.zeros((len(k1[np.abs(k1)<11]),len(n),len(he)))\n",
    "\n",
    "\n",
    "    for i in tqdm(range(len(he))):\n",
    "        nn=0;\n",
    "        for j in tqdm(range(len(n))):\n",
    "            x1=[]\n",
    "            x2=[]\n",
    "            x3=[]\n",
    "\n",
    "            for kk in k:\n",
    "                ff1=funct(g1,he[i],beta1,kk/110000,n[j],omega)\n",
    "                ans=solve(ff1,omega)\n",
    "                z1=complex(ans[-1])\n",
    "                z2=complex(ans[1])\n",
    "                z3=complex(ans[0])   \n",
    "                x1.append(z1.real*86400)\n",
    "                x2.append(z2.real*86400)\n",
    "                x3.append(z3.real*86400)\n",
    "\n",
    "            xx1 = np.array(x1)[np.abs(k1)<11]\n",
    "            xx2 = np.array(x2)[np.abs(k1)<11]\n",
    "            xx3 = np.array(x3)[np.abs(k1)<11]\n",
    "            kk1 = k1[np.abs(k1)<11]\n",
    "\n",
    "            xx2[kk1==0] = np.nan\n",
    "            xx3[kk1==0] = np.nan\n",
    "\n",
    "            root1[:,j,i] = xx1/(2*np.pi)\n",
    "            root2[:,j,i] = xx2/(2*np.pi)\n",
    "            root3[:,j,i] = xx3/(2*np.pi)\n",
    "           \n",
    "    return root1,root2,root3\n",
    "\n",
    "def draw_spectra(p_T,f,k,root1,root2,root3):\n",
    "    f1  = 2*np.pi/f; \n",
    "    k1  = 360/(2*np.pi/k)\n",
    "    f1[np.isinf(f1)]=np.nan\n",
    "    ## plot the observed Spectra\n",
    "    aa = np.nanmean(p_T,2).T\n",
    "    aa1 = gaussian_filter(aa, sigma=10)\n",
    "    fig,ax =plt.subplots(1,1,figsize=(10,10))\n",
    "    m1=ax.contourf(k1,1/f1,aa/aa1,cmap='Spectral_r',levels=np.arange(1.0,2.1,.1),extend='both')\n",
    "    ax.set_ylim([1/f1[f1==96],0.8])\n",
    "    ax.set_xlim(-12,12)\n",
    "    plt.colorbar(m1)\n",
    "    plt.xlabel('Wave-number')\n",
    "    plt.ylabel('frequency')\n",
    "    plt.axhline(f[f1==96]/(2*np.pi),linestyle='--',color='k')\n",
    "    plt.axhline(f[f1==19.2]/(2*np.pi),linestyle='--',color='k')\n",
    "    plt.grid(color='k')\n",
    "    \n",
    "    ## plot the theoratical spectra\n",
    "    for i in range(0,4):\n",
    "        if i==0:\n",
    "            ax.plot(kk1,root3[:,i,:-1],'-ok')\n",
    "        elif i>2:\n",
    "            ax.plot(kk1,root1[:,i,:-1],'-ok')\n",
    "            ax.plot(kk1,root2[:,i,:-1],'-ok')\n"
   ]
  },
  {
   "cell_type": "code",
   "execution_count": 24,
   "metadata": {},
   "outputs": [
    {
     "name": "stderr",
     "output_type": "stream",
     "text": [
      "/home/cccr/roxy/panini/anaconda3/envs/saranya/lib/python3.7/site-packages/ipykernel_launcher.py:24: RuntimeWarning: divide by zero encountered in true_divide\n",
      "/home/cccr/roxy/panini/anaconda3/envs/saranya/lib/python3.7/site-packages/ipykernel_launcher.py:25: RuntimeWarning: divide by zero encountered in true_divide\n"
     ]
    },
    {
     "data": {
      "application/vnd.jupyter.widget-view+json": {
       "model_id": "b133a4eb5c284227a39f1b5e1677ac1a",
       "version_major": 2,
       "version_minor": 0
      },
      "text/plain": [
       "HBox(children=(FloatProgress(value=0.0, max=4.0), HTML(value='')))"
      ]
     },
     "metadata": {},
     "output_type": "display_data"
    },
    {
     "data": {
      "application/vnd.jupyter.widget-view+json": {
       "model_id": "1eb1c16298e548aaa072d0148aa2d280",
       "version_major": 2,
       "version_minor": 0
      },
      "text/plain": [
       "HBox(children=(FloatProgress(value=0.0, max=6.0), HTML(value='')))"
      ]
     },
     "metadata": {},
     "output_type": "display_data"
    },
    {
     "name": "stdout",
     "output_type": "stream",
     "text": [
      "\n"
     ]
    },
    {
     "data": {
      "application/vnd.jupyter.widget-view+json": {
       "model_id": "0ffa222bd11b44cba863a5939dc82b6a",
       "version_major": 2,
       "version_minor": 0
      },
      "text/plain": [
       "HBox(children=(FloatProgress(value=0.0, max=6.0), HTML(value='')))"
      ]
     },
     "metadata": {},
     "output_type": "display_data"
    },
    {
     "name": "stdout",
     "output_type": "stream",
     "text": [
      "\n"
     ]
    },
    {
     "data": {
      "application/vnd.jupyter.widget-view+json": {
       "model_id": "3b643c01bb854488a45194c91076a5b5",
       "version_major": 2,
       "version_minor": 0
      },
      "text/plain": [
       "HBox(children=(FloatProgress(value=0.0, max=6.0), HTML(value='')))"
      ]
     },
     "metadata": {},
     "output_type": "display_data"
    },
    {
     "name": "stdout",
     "output_type": "stream",
     "text": [
      "\n"
     ]
    },
    {
     "data": {
      "application/vnd.jupyter.widget-view+json": {
       "model_id": "b3968f3b64fd4ee894541dc7a93f5f55",
       "version_major": 2,
       "version_minor": 0
      },
      "text/plain": [
       "HBox(children=(FloatProgress(value=0.0, max=6.0), HTML(value='')))"
      ]
     },
     "metadata": {},
     "output_type": "display_data"
    },
    {
     "name": "stdout",
     "output_type": "stream",
     "text": [
      "\n",
      "\n"
     ]
    }
   ],
   "source": [
    "root1,root2,root3 = three_roots(f,k)"
   ]
  },
  {
   "cell_type": "code",
   "execution_count": 30,
   "metadata": {},
   "outputs": [
    {
     "name": "stderr",
     "output_type": "stream",
     "text": [
      "/home/cccr/roxy/panini/anaconda3/envs/saranya/lib/python3.7/site-packages/ipykernel_launcher.py:65: RuntimeWarning: divide by zero encountered in true_divide\n",
      "/home/cccr/roxy/panini/anaconda3/envs/saranya/lib/python3.7/site-packages/ipykernel_launcher.py:66: RuntimeWarning: divide by zero encountered in true_divide\n"
     ]
    },
    {
     "data": {
      "image/png": "[encoded data removed]",
      "text/plain": [
       "<Figure size 720x720 with 2 Axes>"
      ]
     },
     "metadata": {
      "needs_background": "light"
     },
     "output_type": "display_data"
    }
   ],
   "source": [
    "draw_spectra(p_T,f,k,root1,root2,root3)"
   ]
  },
  {
   "cell_type": "markdown",
   "metadata": {},
   "source": [
    "## E/W ratio from average power"
   ]
  },
  {
   "cell_type": "code",
   "execution_count": 31,
   "metadata": {},
   "outputs": [
    {
     "name": "stderr",
     "output_type": "stream",
     "text": [
      "/home/cccr/roxy/panini/anaconda3/envs/saranya/lib/python3.7/site-packages/ipykernel_launcher.py:1: RuntimeWarning: invalid value encountered in greater\n",
      "  \"\"\"Entry point for launching an IPython kernel.\n",
      "/home/cccr/roxy/panini/anaconda3/envs/saranya/lib/python3.7/site-packages/ipykernel_launcher.py:1: RuntimeWarning: invalid value encountered in less\n",
      "  \"\"\"Entry point for launching an IPython kernel.\n",
      "/home/cccr/roxy/panini/anaconda3/envs/saranya/lib/python3.7/site-packages/ipykernel_launcher.py:5: RuntimeWarning: invalid value encountered in greater\n",
      "  \"\"\"\n",
      "/home/cccr/roxy/panini/anaconda3/envs/saranya/lib/python3.7/site-packages/ipykernel_launcher.py:5: RuntimeWarning: invalid value encountered in less\n",
      "  \"\"\"\n"
     ]
    },
    {
     "data": {
      "text/plain": [
       "(1.4572492722426056,\n",
       " array([-6., -5., -4., -3., -2., -1.]),\n",
       " array([96., 48., 32., 24.]))"
      ]
     },
     "execution_count": 31,
     "metadata": {},
     "output_type": "execute_result"
    }
   ],
   "source": [
    "k1[np.where((k1>=1)&(k1<6))[0]],np.where((f1>20)&(f1<100))[0]\n",
    "# p_T[k1[np.where((k1>=0)&(k1<6))[0]],np.where((f1>20)&(f1<100))[0]]\n",
    "p_TT = np.nanmean(p_T,2)\n",
    "xxe  = np.where((k1>=1)&(k1<6))[0];xxw = np.where((k1<=-1)&(k1>-6))[0]\n",
    "yy   = np.where((f1>20)&(f1<100))[0]\n",
    "ep   = np.mean(p_TT[xxe[0]:xxe[-1]+1,yy[0]:yy[-1]+1])\n",
    "wp   = np.mean(p_TT[xxw[0]:xxw[-1]+1,yy[0]:yy[-1]+1])\n",
    "ep**2/wp**2,k1[xxw],f1[yy]"
   ]
  },
  {
   "cell_type": "code",
   "execution_count": 32,
   "metadata": {},
   "outputs": [
    {
     "name": "stderr",
     "output_type": "stream",
     "text": [
      "/home/cccr/roxy/panini/anaconda3/envs/saranya/lib/python3.7/site-packages/ipykernel_launcher.py:1: RuntimeWarning: invalid value encountered in greater\n",
      "  \"\"\"Entry point for launching an IPython kernel.\n",
      "/home/cccr/roxy/panini/anaconda3/envs/saranya/lib/python3.7/site-packages/ipykernel_launcher.py:1: RuntimeWarning: invalid value encountered in less\n",
      "  \"\"\"Entry point for launching an IPython kernel.\n",
      "/home/cccr/roxy/panini/anaconda3/envs/saranya/lib/python3.7/site-packages/ipykernel_launcher.py:7: RuntimeWarning: invalid value encountered in greater\n",
      "  import sys\n",
      "/home/cccr/roxy/panini/anaconda3/envs/saranya/lib/python3.7/site-packages/ipykernel_launcher.py:7: RuntimeWarning: invalid value encountered in less\n",
      "  import sys\n"
     ]
    },
    {
     "data": {
      "text/plain": [
       "(1.4347028368808827,\n",
       " array([-6., -5., -4., -3., -2., -1.]),\n",
       " array([96., 48., 32., 24.]))"
      ]
     },
     "execution_count": 32,
     "metadata": {},
     "output_type": "execute_result"
    }
   ],
   "source": [
    "k1[np.where((k1>=1)&(k1<6))[0]],np.where((f1>20)&(f1<100))[0]\n",
    "# p_T[k1[np.where((k1>=0)&(k1<6))[0]],np.where((f1>20)&(f1<100))[0]]\n",
    "p_TT = np.nanmean(p_T,2)\n",
    "aa1 = p_TT/gaussian_filter(p_TT, sigma=5)\n",
    "\n",
    "xxe  = np.where((k1>=1)&(k1<6))[0];xxw = np.where((k1<=-1)&(k1>-6))[0]\n",
    "yy   = np.where((f1>20)&(f1<100))[0]\n",
    "ep   = np.mean(aa1[xxe[0]:xxe[-1]+1,yy[0]:yy[-1]+1])\n",
    "wp   = np.mean(aa1[xxw[0]:xxw[-1]+1,yy[0]:yy[-1]+1])\n",
    "ep**2/wp**2,k1[xxw],f1[yy]\n"
   ]
  },
  {
   "cell_type": "markdown",
   "metadata": {},
   "source": [
    "## Average E/W ratio from all segments "
   ]
  },
  {
   "cell_type": "code",
   "execution_count": 33,
   "metadata": {},
   "outputs": [
    {
     "name": "stdout",
     "output_type": "stream",
     "text": [
      "E/W ratio is 1.473527\n"
     ]
    },
    {
     "name": "stderr",
     "output_type": "stream",
     "text": [
      "/home/cccr/roxy/panini/anaconda3/envs/saranya/lib/python3.7/site-packages/ipykernel_launcher.py:5: RuntimeWarning: invalid value encountered in greater\n",
      "  \"\"\"\n",
      "/home/cccr/roxy/panini/anaconda3/envs/saranya/lib/python3.7/site-packages/ipykernel_launcher.py:5: RuntimeWarning: invalid value encountered in less\n",
      "  \"\"\"\n"
     ]
    }
   ],
   "source": [
    "ewratio_lat  = np.zeros(30)\n",
    "for i in range(p_T.shape[2]):\n",
    "    p_TT = p_T[:,:,i]\n",
    "    xxe  = np.where((k1>=1)&(k1<6))[0];xxw = np.where((k1<=-1)&(k1>-6))[0]\n",
    "    yy   = np.where((f1>20)&(f1<100))[0]\n",
    "    ep   = np.mean(p_TT[xxe[0]:xxe[-1]+1,yy[0]:yy[-1]+1])\n",
    "    wp   = np.mean(p_TT[xxw[0]:xxw[-1]+1,yy[0]:yy[-1]+1])\n",
    "    ewratio_lat[i]= ep**2/wp**2\n",
    "print(\"E/W ratio is %f\"%np.mean(ewratio_lat))"
   ]
  },
  {
   "cell_type": "code",
   "execution_count": null,
   "metadata": {},
   "outputs": [],
   "source": []
  }
 ],
 "metadata": {
  "kernelspec": {
   "display_name": "Python 3",
   "language": "python",
   "name": "python3"
  },
  "language_info": {
   "codemirror_mode": {
    "name": "ipython",
    "version": 3
   },
   "file_extension": ".py",
   "mimetype": "text/x-python",
   "name": "python",
   "nbconvert_exporter": "python",
   "pygments_lexer": "ipython3",
   "version": "3.7.6"
  }
 },
 "nbformat": 4,
 "nbformat_minor": 4
}
